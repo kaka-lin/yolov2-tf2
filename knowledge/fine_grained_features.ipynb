{
 "cells": [
  {
   "cell_type": "markdown",
   "metadata": {},
   "source": [
    "# Fine-Grained Features"
   ]
  },
  {
   "cell_type": "code",
   "execution_count": 1,
   "metadata": {
    "ExecuteTime": {
     "end_time": "2019-10-04T09:03:19.586547Z",
     "start_time": "2019-10-04T09:03:18.446615Z"
    }
   },
   "outputs": [],
   "source": [
    "import tensorflow as tf\n",
    "import numpy as np"
   ]
  },
  {
   "cell_type": "code",
   "execution_count": 2,
   "metadata": {
    "ExecuteTime": {
     "end_time": "2019-10-04T09:03:20.297067Z",
     "start_time": "2019-10-04T09:03:19.591263Z"
    }
   },
   "outputs": [
    {
     "name": "stdout",
     "output_type": "stream",
     "text": [
      "<tf.Variable 'Variable:0' shape=(1, 2, 2, 1) dtype=int32, numpy=\n",
      "array([[[[1],\n",
      "         [2]],\n",
      "\n",
      "        [[3],\n",
      "         [4]]]], dtype=int32)>\n",
      "\n",
      "[[[[1]\n",
      "   [2]]\n",
      "\n",
      "  [[3]\n",
      "   [4]]]]\n"
     ]
    }
   ],
   "source": [
    "tensor1 = tf.Variable([[[[1], [2]],\n",
    "                         [[3], [4]]]])\n",
    "\n",
    "print(repr(tensor1))\n",
    "print()\n",
    "print(tensor1.numpy())"
   ]
  },
  {
   "cell_type": "code",
   "execution_count": 3,
   "metadata": {
    "ExecuteTime": {
     "end_time": "2019-10-04T09:03:20.302691Z",
     "start_time": "2019-10-04T09:03:20.298798Z"
    }
   },
   "outputs": [
    {
     "name": "stdout",
     "output_type": "stream",
     "text": [
      "<tf.Tensor: id=11, shape=(1, 1, 1, 4), dtype=int32, numpy=array([[[[1, 2, 3, 4]]]], dtype=int32)>\n",
      "\n",
      "[[[[1 2 3 4]]]]\n"
     ]
    }
   ],
   "source": [
    "depth_tensor1 = tf.nn.space_to_depth(tensor1, 2)\n",
    "print(repr(depth_tensor1))\n",
    "print()\n",
    "print(depth_tensor1.numpy())"
   ]
  },
  {
   "cell_type": "code",
   "execution_count": 4,
   "metadata": {
    "ExecuteTime": {
     "end_time": "2019-10-04T09:03:20.443515Z",
     "start_time": "2019-10-04T09:03:20.303953Z"
    }
   },
   "outputs": [
    {
     "data": {
      "text/plain": [
       "array([[[[ 1],\n",
       "         [ 2],\n",
       "         [ 3],\n",
       "         [ 4]],\n",
       "\n",
       "        [[ 5],\n",
       "         [ 6],\n",
       "         [ 7],\n",
       "         [ 8]],\n",
       "\n",
       "        [[ 9],\n",
       "         [10],\n",
       "         [11],\n",
       "         [12]],\n",
       "\n",
       "        [[13],\n",
       "         [14],\n",
       "         [15],\n",
       "         [16]]]], dtype=int32)"
      ]
     },
     "execution_count": 4,
     "metadata": {},
     "output_type": "execute_result"
    }
   ],
   "source": [
    "# [batch, height, width, channels]\n",
    "tensor2 = tf.reshape(tf.range(1, 17), [1, 4, 4, 1])\n",
    "tensor2.numpy()"
   ]
  },
  {
   "cell_type": "code",
   "execution_count": 5,
   "metadata": {
    "ExecuteTime": {
     "end_time": "2019-10-04T09:03:20.484097Z",
     "start_time": "2019-10-04T09:03:20.448299Z"
    }
   },
   "outputs": [
    {
     "data": {
      "text/plain": [
       "<tf.Tensor: id=18, shape=(1, 2, 2, 4), dtype=int32, numpy=\n",
       "array([[[[ 1,  2,  5,  6],\n",
       "         [ 3,  4,  7,  8]],\n",
       "\n",
       "        [[ 9, 10, 13, 14],\n",
       "         [11, 12, 15, 16]]]], dtype=int32)>"
      ]
     },
     "execution_count": 5,
     "metadata": {},
     "output_type": "execute_result"
    }
   ],
   "source": [
    "depth_tensor2 = tf.nn.space_to_depth(tensor2, 2)\n",
    "depth_tensor2"
   ]
  }
 ],
 "metadata": {
  "kernelspec": {
   "display_name": "Python 3",
   "language": "python",
   "name": "python3"
  },
  "language_info": {
   "codemirror_mode": {
    "name": "ipython",
    "version": 3
   },
   "file_extension": ".py",
   "mimetype": "text/x-python",
   "name": "python",
   "nbconvert_exporter": "python",
   "pygments_lexer": "ipython3",
   "version": "3.6.9"
  },
  "latex_envs": {
   "LaTeX_envs_menu_present": true,
   "autoclose": false,
   "autocomplete": true,
   "bibliofile": "biblio.bib",
   "cite_by": "apalike",
   "current_citInitial": 1,
   "eqLabelWithNumbers": true,
   "eqNumInitial": 1,
   "hotkeys": {
    "equation": "Ctrl-E",
    "itemize": "Ctrl-I"
   },
   "labels_anchors": false,
   "latex_user_defs": false,
   "report_style_numbering": false,
   "user_envs_cfg": false
  },
  "toc": {
   "base_numbering": 1,
   "nav_menu": {},
   "number_sections": true,
   "sideBar": true,
   "skip_h1_title": false,
   "title_cell": "Table of Contents",
   "title_sidebar": "Contents",
   "toc_cell": false,
   "toc_position": {},
   "toc_section_display": true,
   "toc_window_display": false
  }
 },
 "nbformat": 4,
 "nbformat_minor": 2
}
